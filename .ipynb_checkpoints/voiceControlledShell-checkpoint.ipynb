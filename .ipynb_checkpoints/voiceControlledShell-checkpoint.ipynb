{
 "cells": [
  {
   "cell_type": "markdown",
   "id": "062a27cc",
   "metadata": {},
   "source": [
    "### Imports\n",
    "\n",
    "\n"
   ]
  },
  {
   "cell_type": "code",
   "execution_count": null,
   "id": "4edd25ce",
   "metadata": {},
   "outputs": [],
   "source": [
    "import speech_recognition as sr\n",
    "from gtts import gTTS\n",
    "import playsound"
   ]
  },
  {
   "cell_type": "markdown",
   "id": "1204daf2",
   "metadata": {},
   "source": [
    "### Voice Assistance Coding Section\n"
   ]
  },
  {
   "cell_type": "code",
   "execution_count": null,
   "id": "b2dd3766",
   "metadata": {},
   "outputs": [],
   "source": [
    "#coverting speech to text\n",
    "def jarvis_listen():\n",
    "    #\n",
    "    r= sr.Recognizer()\n",
    "    #\n",
    "    with sr.Microphone() as source:\n",
    "        audio = r.listen(source)\n",
    "        text =''\n",
    "        \n",
    "        try:\n",
    "            text = r.recognize_google(audio)\n",
    "            \n",
    "        except sr.RequestError as re:\n",
    "            print(re)\n",
    "        \n",
    "        except sr.UnknownValueError as uve:\n",
    "            print(uve)\n",
    "        \n",
    "        except sr.WaitTimeoutError as wte:\n",
    "            print(wte)\n",
    "        \n",
    "    text=text.lower()\n",
    "    return text\n",
    "    \n",
    "#\n",
    "def jarvis_talk(text):\n",
    "    #\n",
    "    file_name = 'audio_data.mp3'\n",
    "    #\n",
    "    tts = gTTS(text=text, lang='en')\n",
    "    #\n",
    "    \n"
   ]
  },
  {
   "cell_type": "markdown",
   "id": "a1f9eb66",
   "metadata": {},
   "source": [
    "###Voice Assistant Execution Section\n",
    "\n",
    "\n",
    "\n"
   ]
  },
  {
   "cell_type": "code",
   "execution_count": null,
   "id": "018b3040",
   "metadata": {},
   "outputs": [],
   "source": []
  }
 ],
 "metadata": {
  "kernelspec": {
   "display_name": "Python 3 (ipykernel)",
   "language": "python",
   "name": "python3"
  },
  "language_info": {
   "codemirror_mode": {
    "name": "ipython",
    "version": 3
   },
   "file_extension": ".py",
   "mimetype": "text/x-python",
   "name": "python",
   "nbconvert_exporter": "python",
   "pygments_lexer": "ipython3",
   "version": "3.8.10"
  }
 },
 "nbformat": 4,
 "nbformat_minor": 5
}
